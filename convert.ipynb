{
 "cells": [
  {
   "cell_type": "code",
   "execution_count": 1,
   "metadata": {},
   "outputs": [
    {
     "name": "stderr",
     "output_type": "stream",
     "text": [
      "2025-03-26 23:42:27.192878: I tensorflow/tsl/cuda/cudart_stub.cc:28] Could not find cuda drivers on your machine, GPU will not be used.\n",
      "2025-03-26 23:42:27.751857: I tensorflow/tsl/cuda/cudart_stub.cc:28] Could not find cuda drivers on your machine, GPU will not be used.\n",
      "2025-03-26 23:42:27.753179: I tensorflow/core/platform/cpu_feature_guard.cc:182] This TensorFlow binary is optimized to use available CPU instructions in performance-critical operations.\n",
      "To enable the following instructions: AVX2 FMA, in other operations, rebuild TensorFlow with the appropriate compiler flags.\n",
      "2025-03-26 23:42:30.160750: W tensorflow/compiler/tf2tensorrt/utils/py_utils.cc:38] TF-TRT Warning: Could not find TensorRT\n"
     ]
    }
   ],
   "source": [
    "import tensorflow as tf\n",
    "from tensorflow import keras\n",
    "import torch"
   ]
  },
  {
   "cell_type": "code",
   "execution_count": 2,
   "metadata": {},
   "outputs": [
    {
     "name": "stderr",
     "output_type": "stream",
     "text": [
      "2025-03-26 23:42:37.555114: W tensorflow/core/common_runtime/gpu/gpu_device.cc:1960] Cannot dlopen some GPU libraries. Please make sure the missing libraries mentioned above are installed properly if you would like to use GPU. Follow the guide at https://www.tensorflow.org/install/gpu for how to download and setup the required libraries for your platform.\n",
      "Skipping registering GPU devices...\n"
     ]
    },
    {
     "name": "stdout",
     "output_type": "stream",
     "text": [
      "INFO:tensorflow:Assets written to: mini_monaco_brispfo/assets\n"
     ]
    },
    {
     "name": "stderr",
     "output_type": "stream",
     "text": [
      "INFO:tensorflow:Assets written to: mini_monaco_brispfo/assets\n"
     ]
    }
   ],
   "source": [
    "model = keras.models.load_model(\"mini_monaco_brispfo.h5\")\n",
    "tf.saved_model.save(model, \"mini_monaco_brispfo\")"
   ]
  },
  {
   "cell_type": "code",
   "execution_count": 7,
   "metadata": {},
   "outputs": [
    {
     "name": "stdout",
     "output_type": "stream",
     "text": [
      "/home/csobolewski/.conda/envs/pytorch-CycleGAN-and-pix2pix/lib/python3.8/runpy.py:127: RuntimeWarning: 'tf2onnx.convert' found in sys.modules after import of package 'tf2onnx', but prior to execution of 'tf2onnx.convert'; this may result in unpredictable behaviour\n",
      "  warn(RuntimeWarning(msg))\n",
      "2025-03-26 23:46:58,968 - WARNING - '--tag' not specified for saved_model. Using --tag serve\n",
      "2025-03-26 23:46:59,454 - INFO - Signatures found in model: [serving_default].\n",
      "2025-03-26 23:46:59,455 - WARNING - '--signature_def' not specified, using first signature: serving_default\n",
      "2025-03-26 23:46:59,455 - INFO - Output names: ['n_outputs0', 'n_outputs1']\n",
      "2025-03-26 23:47:00,415 - INFO - Using tensorflow=2.13.1, onnx=1.17.0, tf2onnx=1.16.1/15c810\n",
      "2025-03-26 23:47:00,415 - INFO - Using opset <onnx, 15>\n",
      "2025-03-26 23:47:00,433 - INFO - Computed 0 values for constant folding\n",
      "2025-03-26 23:47:00,462 - INFO - Optimizing ONNX model\n",
      "2025-03-26 23:47:00,541 - INFO - After optimization: Cast -1 (1->0), Identity -4 (4->0), Transpose -8 (10->2)\n",
      "2025-03-26 23:47:00,553 - INFO - \n",
      "2025-03-26 23:47:00,553 - INFO - Successfully converted TensorFlow model mini_monaco_brispfo to ONNX\n",
      "2025-03-26 23:47:00,553 - INFO - Model inputs: ['img_in']\n",
      "2025-03-26 23:47:00,553 - INFO - Model outputs: ['n_outputs0', 'n_outputs1']\n",
      "2025-03-26 23:47:00,553 - INFO - ONNX model is saved at mini_monaco_brispfo.onnx\n"
     ]
    }
   ],
   "source": [
    "!python -m tf2onnx.convert --saved-model mini_monaco_brispfo --output mini_monaco_brispfo.onnx"
   ]
  }
 ],
 "metadata": {
  "kernelspec": {
   "display_name": "pytorch-CycleGAN-and-pix2pix",
   "language": "python",
   "name": "python3"
  },
  "language_info": {
   "codemirror_mode": {
    "name": "ipython",
    "version": 3
   },
   "file_extension": ".py",
   "mimetype": "text/x-python",
   "name": "python",
   "nbconvert_exporter": "python",
   "pygments_lexer": "ipython3",
   "version": "3.8.20"
  }
 },
 "nbformat": 4,
 "nbformat_minor": 2
}
